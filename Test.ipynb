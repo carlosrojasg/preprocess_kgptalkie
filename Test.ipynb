{
 "cells": [
  {
   "cell_type": "code",
   "execution_count": 2,
   "metadata": {},
   "outputs": [],
   "source": [
    "import preprocess_kgptalkie as ps\n",
    "\n",
    "# when you use this library first time\n",
    "# ps.download_nltk_data()"
   ]
  },
  {
   "cell_type": "code",
   "execution_count": 3,
   "metadata": {},
   "outputs": [
    {
     "name": "stdout",
     "output_type": "stream",
     "text": [
      "hello world!\n"
     ]
    }
   ],
   "source": [
    "import preprocess_kgptalkie as ps\n",
    "\n",
    "text = \"HELLO WORLD!\"\n",
    "processed_text = ps.to_lower_case(text)\n",
    "print(processed_text)  # Output: hello world!"
   ]
  },
  {
   "cell_type": "code",
   "execution_count": 4,
   "metadata": {},
   "outputs": [
    {
     "name": "stdout",
     "output_type": "stream",
     "text": [
      "i am learning NLP.\n"
     ]
    }
   ],
   "source": [
    "import preprocess_kgptalkie as ps\n",
    "\n",
    "text = \"I'm learning NLP.\"\n",
    "processed_text = ps.contraction_to_expansion(text)\n",
    "print(processed_text)  # Output: I am learning NLP."
   ]
  },
  {
   "cell_type": "code",
   "execution_count": 5,
   "metadata": {},
   "outputs": [
    {
     "name": "stdout",
     "output_type": "stream",
     "text": [
      "Contact me at \n"
     ]
    }
   ],
   "source": [
    "import preprocess_kgptalkie as ps\n",
    "\n",
    "text = \"Contact me at example@example.com\"\n",
    "processed_text = ps.remove_emails(text)\n",
    "print(processed_text)  # Output: Contact me at "
   ]
  },
  {
   "cell_type": "code",
   "execution_count": 6,
   "metadata": {},
   "outputs": [
    {
     "name": "stdout",
     "output_type": "stream",
     "text": [
      "Hello World!\n"
     ]
    }
   ],
   "source": [
    "import preprocess_kgptalkie as ps\n",
    "\n",
    "text = \"<p>Hello World!</p>\"\n",
    "processed_text = ps.remove_html_tags(text)\n",
    "print(processed_text)  # Output: Hello World!"
   ]
  },
  {
   "cell_type": "code",
   "execution_count": 7,
   "metadata": {},
   "outputs": [
    {
     "name": "stdout",
     "output_type": "stream",
     "text": [
      "run run\n"
     ]
    }
   ],
   "source": [
    "import preprocess_kgptalkie as ps\n",
    "\n",
    "text = \"running runs\"\n",
    "processed_text = ps.lemmatize(text)\n",
    "print(processed_text)  # Output: run run"
   ]
  },
  {
   "cell_type": "code",
   "execution_count": 8,
   "metadata": {},
   "outputs": [
    {
     "name": "stdout",
     "output_type": "stream",
     "text": [
      "pos\n"
     ]
    }
   ],
   "source": [
    "import preprocess_kgptalkie as ps\n",
    "\n",
    "text = \"I love programming!\"\n",
    "sentiment = ps.sentiment_analysis(text)\n",
    "print(sentiment)"
   ]
  },
  {
   "cell_type": "code",
   "execution_count": 9,
   "metadata": {},
   "outputs": [
    {
     "data": {
      "text/plain": [
       "'Hello everyone'"
      ]
     },
     "execution_count": 9,
     "metadata": {},
     "output_type": "execute_result"
    }
   ],
   "source": [
    "import preprocess_kgptalkie as ps\n",
    "\n",
    "text = \"Bonjour tout le monde\"\n",
    "ps.translate(text)"
   ]
  },
  {
   "cell_type": "code",
   "execution_count": 1,
   "metadata": {},
   "outputs": [
    {
     "name": "stdout",
     "output_type": "stream",
     "text": [
      "I be love this nlp tutorial contact I at   visit\n"
     ]
    }
   ],
   "source": [
    "import preprocess_kgptalkie as ps\n",
    "\n",
    "text = \"I'm loving this NLP tutorial! Contact me at udemy@kgptalkie.com. Visit https://kgptalkie.com.\"\n",
    "cleaned_text = ps.clean_text(text)\n",
    "print(cleaned_text)"
   ]
  },
  {
   "cell_type": "code",
   "execution_count": 2,
   "metadata": {},
   "outputs": [
    {
     "data": {
      "text/plain": [
       "{'word_count': 11,\n",
       " 'char_count': 83,\n",
       " 'avg_word_len': 7.545454545454546,\n",
       " 'stop_words_count': 3,\n",
       " 'hashtags_count': 0,\n",
       " 'mentions_count': 1,\n",
       " 'numerics_count': 0,\n",
       " 'upper_case_count': 1}"
      ]
     },
     "execution_count": 2,
     "metadata": {},
     "output_type": "execute_result"
    }
   ],
   "source": [
    "ps.extract_features(text)"
   ]
  },
  {
   "cell_type": "code",
   "execution_count": null,
   "metadata": {},
   "outputs": [],
   "source": []
  },
  {
   "cell_type": "code",
   "execution_count": null,
   "metadata": {},
   "outputs": [],
   "source": []
  },
  {
   "cell_type": "code",
   "execution_count": null,
   "metadata": {},
   "outputs": [],
   "source": []
  }
 ],
 "metadata": {
  "kernelspec": {
   "display_name": "ml",
   "language": "python",
   "name": "python3"
  },
  "language_info": {
   "codemirror_mode": {
    "name": "ipython",
    "version": 3
   },
   "file_extension": ".py",
   "mimetype": "text/x-python",
   "name": "python",
   "nbconvert_exporter": "python",
   "pygments_lexer": "ipython3",
   "version": "3.12.4"
  }
 },
 "nbformat": 4,
 "nbformat_minor": 2
}
